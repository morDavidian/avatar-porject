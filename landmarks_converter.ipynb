{
 "cells": [
  {
   "cell_type": "code",
   "execution_count": 1,
   "metadata": {},
   "outputs": [],
   "source": [
    "import pandas as pd\n",
    "import numpy as np\n",
    "import re\n",
    "from tqdm.notebook import tqdm\n",
    "from scipy.spatial.transform import Rotation\n",
    "import glob\n",
    "import os\n",
    "import json"
   ]
  },
  {
   "cell_type": "code",
   "execution_count": 2,
   "metadata": {},
   "outputs": [],
   "source": [
    "p_space = re.compile('( *)(.*)')\n",
    "\n",
    "def remove_space(x):\n",
    "    name = p_space.match(x)\n",
    "    return name.group(2)\n",
    "\n",
    "# extracting transformation parameters (rotation angles and translation vector) from csv\n",
    "def extract_transformation(x):\n",
    "    # converting to rotations\n",
    "    r = Rotation.from_euler('XYZ', [x['pose_Rx'], x['pose_Ry'], x['pose_Rz']], degrees=False)\n",
    "    # converting to translation vector\n",
    "    translation = np.array([x['pose_Tx'], x['pose_Ty'], x['pose_Tz']])\n",
    "    return r, translation\n",
    "\n",
    "\n",
    "# mapping global coordinate to local ones using the inverse transformation defined by the Pose parameters\n",
    "def map_row_to_local_quat(x):\n",
    "    r, translation = extract_transformation(x)\n",
    "    \n",
    "    # Each row is a (possibly non-unit norm) quaternion in scalar-last (x, y, z, w) format.\n",
    "    quat = r.as_quat()\n",
    "    x['quat_x'] = quat[0]  # x\n",
    "    x['quat_y'] = quat[1]  # y\n",
    "    x['quat_z'] = quat[2]  # z\n",
    "    x['quat_w'] = quat[3]  # w\n",
    "    \n",
    "    # mapping each of the 68 landmarks points to local coordinates\n",
    "    for i in range(0, 68):\n",
    "        # converting to location vector\n",
    "        vec_global = np.array([x['X_' + str(i)], x['Y_' + str(i)], x['Z_' + str(i)]])\n",
    "        # translating to object space and inverting rotation\n",
    "        vec_local = r.apply((vec_global - translation), inverse=True)\n",
    "        # updating row with local coordinates\n",
    "        x['X_L_' + str(i)] = vec_local[0]\n",
    "        x['Y_L_' + str(i)] = vec_local[1]\n",
    "        x['Z_L_' + str(i)] = vec_local[2]\n",
    "\n",
    "    return x"
   ]
  },
  {
   "cell_type": "code",
   "execution_count": 7,
   "metadata": {},
   "outputs": [],
   "source": [
    "# please add an absolute path to the processed directory of OpenFace\n",
    "video_path = \"C:\\\\Users\\\\morda\\\\Downloads\\\\OpenFace_2.2.0_win_x64\\\\to_processed\\\\\"\n",
    "#input_paths = [\".\\\\samples\\\\test\\\\openface_landmarks.csv\"]\n",
    "paths = glob.glob(video_path + \"*.csv\")\n",
    "\n",
    "# please specify a location where to save the processed CSVs\n",
    "save_location = \"C:\\\\Users\\\\morda\\\\Downloads\\\\OpenFace_2.2.0_win_x64\\\\after_processed\\\\\" "
   ]
  },
  {
   "cell_type": "code",
   "execution_count": 8,
   "metadata": {},
   "outputs": [
    {
     "data": {
      "application/vnd.jupyter.widget-view+json": {
       "model_id": "69e2178033ac4aeaae92752f052f895f",
       "version_major": 2,
       "version_minor": 0
      },
      "text/plain": [
       "HBox(children=(FloatProgress(value=0.0, max=6.0), HTML(value='')))"
      ]
     },
     "metadata": {},
     "output_type": "display_data"
    },
    {
     "name": "stdout",
     "output_type": "stream",
     "text": [
      "\n"
     ]
    }
   ],
   "source": [
    "# preprocessing\n",
    "for path in tqdm(paths):\n",
    "    df = pd.read_csv(path)\n",
    "    df = df.rename(columns=remove_space)\n",
    "    df = df.apply(map_row_to_local_quat, axis=1)\n",
    "    df = df.drop(['face_id', 'success', 'timestamp', 'frame','confidence',\n",
    "                  'pose_Tz', 'pose_Ty', 'pose_Tx', 'pose_Rx', 'pose_Ry',\n",
    "                  'pose_Rz'], axis=1)\n",
    "    for i in range(0, 68):\n",
    "        df = df.drop([\"X_\" + str(i), \"Y_\" + str(i), \"Z_\" + str(i)], axis=1)\n",
    "    \n",
    "    #df.to_csv(save_location)\n",
    "\n",
    "    base_name = os.path.basename(path)\n",
    "    df.to_csv(str(save_location) + \"\\\\\" + str(base_name) + \"_proc\" + \".csv\")\n",
    "    df.to_json(str(save_location) + \"\\\\\" + str(base_name) + \"_proc\" + \".json\", orient=\"index\")"
   ]
  },
  {
   "cell_type": "code",
   "execution_count": null,
   "metadata": {},
   "outputs": [],
   "source": [
    "# an example of how the CSV looks\n",
    "df.head()"
   ]
  },
  {
   "cell_type": "code",
   "execution_count": null,
   "metadata": {},
   "outputs": [],
   "source": [
    "# an exmaple of how the json looks like\n",
    "with open(str(save_location) + \"\\\\\" + str(base_name) + \"_proc\" + \".json\", encoding='utf-8') as data_file:\n",
    "    data = json.loads(data_file.read())\n",
    "data"
   ]
  },
  {
   "cell_type": "code",
   "execution_count": null,
   "metadata": {},
   "outputs": [],
   "source": [
    "for i in range(0, 68):\n",
    "    print ([\"X_\" + str(i), \"Y_\" + str(i), \"Z_\" + str(i)])"
   ]
  }
 ],
 "metadata": {
  "kernelspec": {
   "display_name": "Python 3",
   "language": "python",
   "name": "python3"
  },
  "language_info": {
   "codemirror_mode": {
    "name": "ipython",
    "version": 3
   },
   "file_extension": ".py",
   "mimetype": "text/x-python",
   "name": "python",
   "nbconvert_exporter": "python",
   "pygments_lexer": "ipython3",
   "version": "3.8.2"
  }
 },
 "nbformat": 4,
 "nbformat_minor": 4
}
