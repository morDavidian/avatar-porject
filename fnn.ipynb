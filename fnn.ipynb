{
 "cells": [
  {
   "cell_type": "code",
   "execution_count": null,
   "metadata": {
    "tags": []
   },
   "outputs": [],
   "source": [
    "import os\n",
    "import torch\n",
    "import pandas as pd\n",
    "import torch.nn as nn\n",
    "import torch.optim as optim\n",
    "import torch.nn.functional as F\n",
    "import torchvision.transforms as TF\n",
    "\n",
    "from enum import Enum\n",
    "from datetime import datetime\n",
    "from torch.autograd import Variable\n",
    "from torchvision import datasets, transforms\n",
    "from torch.utils.data import Dataset, DataLoader\n",
    "\n",
    "# Define global variables:\n",
    "samples_path = os.environ.get('SAMPLES_PATH') or '.\\\\samples'\n",
    "\n",
    "x_data_file = os.environ.get('X_DATA_FILE') or 'jupyter_landmarks.csv'\n",
    "x_cols_start_index = os.environ.get('X_COLS_START_INDEX') or 1\n",
    "x_cols_end_index = os.environ.get('X_COLS_END_INDEX') or 209\n",
    "\n",
    "y_data_file = os.environ.get('Y_DATA_FILE') or 'unity_blendshapes.csv'\n",
    "y_cols_start_index = os.environ.get('Y_COLS_START_INDEX') or 2\n",
    "y_cols_end_index = os.environ.get('Y_COLS_END_INDEX') or 74\n",
    "\n",
    "output_filename = os.environ.get('OUTPUT_FILENAME') or 'expressions.csv'\n",
    "\n",
    "quat_domain = [-1, 1]\n",
    "blend_domain = [0, 100]\n",
    "blend_range = [0, 68]\n",
    "\n"
   ]
  },
  {
   "cell_type": "code",
   "execution_count": null,
   "metadata": {},
   "outputs": [],
   "source": [
    "class Modes(Enum):\n",
    "    TRAIN = 'train'\n",
    "    TEST = 'test'"
   ]
  },
  {
   "cell_type": "code",
   "execution_count": null,
   "metadata": {},
   "outputs": [],
   "source": [
    "def getDataFromCSV(mode, file, start, end):\n",
    "    return pd.read_csv(f'{samples_path}\\\\{mode}\\\\{file}',\n",
    "                               usecols = range(start, end))\n"
   ]
  },
  {
   "cell_type": "code",
   "execution_count": null,
   "metadata": {},
   "outputs": [],
   "source": [
    "def normallizeData(data):\n",
    "    std_history = []\n",
    "    mean_history = []\n",
    "\n",
    "    for i in range(data.shape[1]):\n",
    "        # Compute standard deviation\n",
    "        std = torch.std(data[:, i])\n",
    "        std = 0.001 if std == 0 else std\n",
    "\n",
    "        # Save the std and mean history for denormalize later\n",
    "        std_history.append(std)\n",
    "        mean_history.append(torch.mean(data[:, i]))\n",
    "\n",
    "        # Normalize the data\n",
    "        data[:, i] = (data[:, i] - torch.mean(data[:, i])) / std\n",
    "        \n",
    "    return data, std_history, mean_history"
   ]
  },
  {
   "cell_type": "code",
   "execution_count": null,
   "metadata": {},
   "outputs": [],
   "source": [
    "def getData(mode):\n",
    "    # Get data from csv files\n",
    "    x = getDataFromCSV(mode, x_data_file, x_cols_start_index, x_cols_end_index)\n",
    "    y = getDataFromCSV(mode, y_data_file, y_cols_start_index, y_cols_end_index)\n",
    "\n",
    "    # Transforms the data to tensors\n",
    "    x_tensor = torch.tensor(x.values, requires_grad=True).float()\n",
    "    y_tensor = torch.tensor(y.values, requires_grad=True).float()\n",
    "\n",
    "    # Normallize the data\n",
    "    norm_x_tensor, _, _ = normallizeData(x_tensor)\n",
    "    norm_y_tensor, y_std_history, y_mean_history = normallizeData(y_tensor)\n",
    "\n",
    "    return norm_x_tensor, norm_y_tensor, y_std_history, y_mean_history"
   ]
  },
  {
   "cell_type": "code",
   "execution_count": null,
   "metadata": {},
   "outputs": [],
   "source": [
    "class LandmarksDataset(Dataset):\n",
    "    def __init__(self, x, y):\n",
    "        self.x = x\n",
    "        self.y = y\n",
    "\n",
    "\n",
    "    def __getitem__(self, index):\n",
    "        return (self.x[index], self.y[index])\n",
    "    \n",
    "    def __len__(self):\n",
    "        return len(self.x)"
   ]
  },
  {
   "cell_type": "code",
   "execution_count": null,
   "metadata": {},
   "outputs": [],
   "source": [
    "def getDataset(mode):\n",
    "    x, y, y_std_history, y_mean_history = getData(mode)\n",
    "    return LandmarksDataset(x, y), y_std_history, y_mean_history"
   ]
  },
  {
   "cell_type": "code",
   "execution_count": null,
   "metadata": {},
   "outputs": [],
   "source": [
    "class Net(nn.Module):\n",
    "    def __init__(self):\n",
    "        super(Net, self).__init__()\n",
    "        self.fc1 = nn.Linear(208, 1024)\n",
    "        self.fc2 = nn.Linear(1024, 512)\n",
    "        self.fc3 = nn.Linear(512, 256)\n",
    "        self.fc4 = nn.Linear(256, 128)\n",
    "        self.fc5 = nn.Linear(128, 72)\n",
    "            \n",
    "    def forward(self, x):\n",
    "        x = F.relu(self.fc1(x))\n",
    "        x = F.relu(self.fc2(x))\n",
    "        x = F.relu(self.fc3(x))\n",
    "        x = F.relu(self.fc4(x))\n",
    "        x = self.fc5(x)\n",
    "        return x\n"
   ]
  },
  {
   "cell_type": "code",
   "execution_count": null,
   "metadata": {},
   "outputs": [],
   "source": [
    "def train(epochs, train_loader, net, optimizer, criterion, log_interval):\n",
    "    for epoch in range(epochs):\n",
    "        for batch_idx, (data, target) in enumerate(train_loader):\n",
    "            data, target = Variable(data), Variable(target)\n",
    "            optimizer.zero_grad()\n",
    "            net_out = net(data)\n",
    "            loss = criterion(net_out, target)\n",
    "            loss.backward()\n",
    "            optimizer.step()\n",
    "            if batch_idx % log_interval == 0:\n",
    "                print('Train Epoch: {} [{}/{} ({:.0f}%)]\\tLoss: {:.6f}'.format(\n",
    "                    epoch, batch_idx * len(data), len(train_loader.dataset),\n",
    "                           100. * batch_idx / len(train_loader), loss.item()))\n",
    "                \n",
    "    return net"
   ]
  },
  {
   "cell_type": "code",
   "execution_count": null,
   "metadata": {},
   "outputs": [],
   "source": [
    "def test(test_loader, net, criterion):\n",
    "    test_loss = 0\n",
    "    # correct = 0\n",
    "    results = torch.tensor([]).float()\n",
    "\n",
    "    for data, target in test_loader:\n",
    "        data, target = Variable(data), Variable(target)\n",
    "        net_out = net(data)\n",
    "        results = torch.cat((results, net_out))\n",
    "        # sum up batch loss\n",
    "        test_loss += criterion(net_out, target).item()\n",
    "        # pred = net_out.data.max(1)[1]  # get the index of the max log-probability\n",
    "        # correct += pred.eq(target.data).sum()\n",
    "\n",
    "    test_loss /= len(test_loader.dataset)\n",
    "    print('\\nTest set: Average loss: {:.4f}'.format(\n",
    "        test_loss))\n",
    "\n",
    "    return results, test_loss"
   ]
  },
  {
   "cell_type": "code",
   "execution_count": null,
   "metadata": {},
   "outputs": [],
   "source": [
    "def denormalizeData(data, std_history, mean_history):\n",
    "    for i in range(data.shape[1]):\n",
    "        std, mean = std_history[i], mean_history[i]\n",
    "        data[:, i] = (data[:, i] + mean) * std\n",
    "    \n",
    "    return data"
   ]
  },
  {
   "cell_type": "code",
   "execution_count": null,
   "metadata": {},
   "outputs": [],
   "source": [
    "def saveResultsToOutputFile(mode, filename, results):\n",
    "    # Create the output csv columns\n",
    "    blend_cols = []\n",
    "    quat_cols = ['Quaternion_x', 'Quaternion_y', 'Quaternion_z', 'Quaternion_w']\n",
    "    for i in range (blend_range[0], blend_range[1]):\n",
    "        blend_cols.append('Blendshape_{0}'.format(i))\n",
    "    output_cols = quat_cols + blend_cols\n",
    "    \n",
    "    # Convert the results to data frame \n",
    "    results = results.detach().numpy()\n",
    "    results = pd.DataFrame(results, columns=output_cols)\n",
    "    \n",
    "    # Assign values outside boundary to boundary values\n",
    "    results.loc[:, quat_cols] = results.loc[:, quat_cols].clip(quat_domain[0], quat_domain[1])\n",
    "    results.loc[:, blend_cols] = results.loc[:, blend_cols].clip(blend_domain[0], blend_domain[1])\n",
    "\n",
    "    # Save the results to the output csv file\n",
    "    file_path = f'{samples_path}\\\\{mode}\\\\{filename}'\n",
    "    results.to_csv(file_path)\n",
    "    print(f'[{datetime.now()}] Successfully saved the results to {file_path}')"
   ]
  },
  {
   "cell_type": "code",
   "execution_count": null,
   "metadata": {},
   "outputs": [],
   "source": [
    "def create_nn(batch_size=50, learning_rate=0.001, epochs=20,\n",
    "              log_interval=10):\n",
    "    \n",
    "    # Create the train data loader\n",
    "    train_dataset, _, _ = getDataset(Modes.TRAIN.value)\n",
    "    train_loader = torch.utils.data.DataLoader(\n",
    "        train_dataset,\n",
    "        batch_size,\n",
    "        shuffle=True)\n",
    "\n",
    "    # Create the test data loader\n",
    "    test_dataset, std_history, mean_history = getDataset(Modes.TEST.value)\n",
    "    test_loader = torch.utils.data.DataLoader(\n",
    "        test_dataset,\n",
    "        batch_size,\n",
    "        shuffle=False)\n",
    "\n",
    "    # Create the net\n",
    "    net = Net()\n",
    "\n",
    "    # Create an optimizer\n",
    "    optimizer = torch.optim.Adam(net.parameters(), lr=learning_rate)\n",
    "\n",
    "    # Create a loss function\n",
    "    criterion = nn.MSELoss(reduction='mean')\n",
    "    # criterion = nn.L1Loss(reduction='mean')\n",
    "\n",
    "    # Run the main training loop\n",
    "    net = train(epochs, train_loader, net, optimizer, criterion, log_interval)\n",
    "                \n",
    "    # Run a test loop\n",
    "    results, test_loss = test(test_loader, net, criterion)\n",
    "    \n",
    "    # De-normalize the data to the original domains\n",
    "    results = denormalizeData(results, std_history, mean_history)\n",
    "    \n",
    "    # Save the results to output file\n",
    "    saveResultsToOutputFile(Modes.TEST.value, output_filename, results)"
   ]
  },
  {
   "cell_type": "code",
   "execution_count": null,
   "metadata": {},
   "outputs": [],
   "source": [
    "if __name__ == \"__main__\":\n",
    "    run_opt = 2\n",
    "    if run_opt == 1:\n",
    "        simple_gradient()\n",
    "    elif run_opt == 2:\n",
    "        create_nn()"
   ]
  }
 ],
 "metadata": {
  "kernelspec": {
   "display_name": "Python 3",
   "language": "python",
   "name": "python3"
  },
  "language_info": {
   "codemirror_mode": {
    "name": "ipython",
    "version": 3
   },
   "file_extension": ".py",
   "mimetype": "text/x-python",
   "name": "python",
   "nbconvert_exporter": "python",
   "pygments_lexer": "ipython3",
   "version": "3.8.3-final"
  }
 },
 "nbformat": 4,
 "nbformat_minor": 4
}